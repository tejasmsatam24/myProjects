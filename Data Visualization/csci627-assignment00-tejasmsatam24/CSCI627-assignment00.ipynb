{
 "cells": [
  {
   "cell_type": "markdown",
   "metadata": {},
   "source": [
    "# Assignment00 - Introduction to Jupyter and GitHub"
   ]
  },
  {
   "cell_type": "markdown",
   "metadata": {},
   "source": [
    "Follow the directions from the README.md file, reproduced here to make things simplier.\n",
    "\n",
    "1. Accept github classroom assignment via link provided in email or on slack.\n",
    "2. On a local resource clone the newly created repository.\n",
    "3. Create a conda local conda environment using csci627.yml file.\n",
    "4. Open the included jupyter notebook using newly created conda environment.\n",
    "5. Modify Jupyter notebook within project.\n",
    "\t- Add python print statement that outputs \"Hello World!\"\n",
    "\t- Add python code that calculates 1 plus 1\n",
    "\t- Add python code that calculates the square root of 4\n",
    "6. Commit changes to repository, remember to add a useful commit message.\n",
    "7. Modify Jupyter notebook within project.\n",
    "\t- Add python print statement that outputs \"My name is:\" + &lt;your name&gt;\n",
    "\t- Add python code that calculates 1 minus 1\n",
    "\t- Add python code that calculates the square root of 16\n",
    "8. Commit changes to repository, remember to add a useful commit message.\n",
    "9. Push committed changes to github."
   ]
  },
  {
   "cell_type": "markdown",
   "metadata": {},
   "source": [
    "---\n",
    "You have likely completed steps 1, 2, 3, and 4 if you are at this point."
   ]
  },
  {
   "cell_type": "markdown",
   "metadata": {},
   "source": [
    "5. Modify Jupyter notebook within project.\n",
    "    - Add python print statement that outputs \"Hello World!\" [the next cell is ready for you to write your code]"
   ]
  },
  {
   "cell_type": "code",
   "execution_count": 1,
   "metadata": {},
   "outputs": [
    {
     "name": "stdout",
     "output_type": "stream",
     "text": [
      "Hello World!\n"
     ]
    }
   ],
   "source": [
    "print(\"Hello World!\")"
   ]
  },
  {
   "cell_type": "markdown",
   "metadata": {},
   "source": [
    "5. Modify Jupyter notebook within project.\n",
    "    - Add python code that calculates 1 plus 1 [the next cell is ready for you to write your code]"
   ]
  },
  {
   "cell_type": "code",
   "execution_count": 2,
   "metadata": {},
   "outputs": [
    {
     "data": {
      "text/plain": [
       "2"
      ]
     },
     "execution_count": 2,
     "metadata": {},
     "output_type": "execute_result"
    }
   ],
   "source": [
    "1+1"
   ]
  },
  {
   "cell_type": "markdown",
   "metadata": {},
   "source": [
    "5. Modify Jupyter notebook within project.\n",
    "    - Add python code that calculates the square root of 4 [the next cell is ready for you to write your code]"
   ]
  },
  {
   "cell_type": "code",
   "execution_count": 3,
   "metadata": {},
   "outputs": [
    {
     "data": {
      "text/plain": [
       "2.0"
      ]
     },
     "execution_count": 3,
     "metadata": {},
     "output_type": "execute_result"
    }
   ],
   "source": [
    "import math\n",
    "math.sqrt(4)"
   ]
  },
  {
   "cell_type": "markdown",
   "metadata": {},
   "source": [
    "6. Commit changes to repository, remember to add a useful commit message.\n",
    "\n",
    "At this point you should save your work [File->Save and Checkpoint], return to your terminal window and do a `git commit` adding a useful commit message."
   ]
  },
  {
   "cell_type": "markdown",
   "metadata": {},
   "source": [
    "You now will return to the notebook and complete the following three addtions each in their own cell.\n",
    "7. Modify Jupyter notebook within project.\n",
    "\t- Add python print statement that outputs \"My name is:\" +&lt;your name&gt;\n",
    "\t- Add python code that calculates 1 minus 1\n",
    "\t- Add python code that calculates the square root of 16\n",
    "At this point you will be inserting your own python cells into the notebook."
   ]
  },
  {
   "cell_type": "code",
   "execution_count": 5,
   "metadata": {},
   "outputs": [
    {
     "name": "stdout",
     "output_type": "stream",
     "text": [
      "My name is Tejas Satam\n"
     ]
    }
   ],
   "source": [
    "print(\"My name is Tejas Satam\")"
   ]
  },
  {
   "cell_type": "code",
   "execution_count": 6,
   "metadata": {},
   "outputs": [
    {
     "data": {
      "text/plain": [
       "0"
      ]
     },
     "execution_count": 6,
     "metadata": {},
     "output_type": "execute_result"
    }
   ],
   "source": [
    "1-1"
   ]
  },
  {
   "cell_type": "code",
   "execution_count": 7,
   "metadata": {},
   "outputs": [
    {
     "data": {
      "text/plain": [
       "4.0"
      ]
     },
     "execution_count": 7,
     "metadata": {},
     "output_type": "execute_result"
    }
   ],
   "source": [
    "import math\n",
    "math.sqrt(16)"
   ]
  },
  {
   "cell_type": "markdown",
   "metadata": {},
   "source": [
    "You will now save your notebook again, return to your terminal window and complete the last two steps.\n",
    "8. Commit changes to repository, remember to add a useful commit message.\n",
    "9. Push committed changes to github."
   ]
  }
 ],
 "metadata": {
  "kernelspec": {
   "display_name": "Python 3",
   "language": "python",
   "name": "python3"
  },
  "language_info": {
   "codemirror_mode": {
    "name": "ipython",
    "version": 3
   },
   "file_extension": ".py",
   "mimetype": "text/x-python",
   "name": "python",
   "nbconvert_exporter": "python",
   "pygments_lexer": "ipython3",
   "version": "3.7.1"
  }
 },
 "nbformat": 4,
 "nbformat_minor": 2
}
