{
 "cells": [
  {
   "cell_type": "markdown",
   "metadata": {},
   "source": [
    "# Learning R\n",
    "This exercises tracks the course [Learning R](https://www.lynda.com/R-tutorials/Up-Running-R/120612-2.html) from lynda.com."
   ]
  },
  {
   "cell_type": "markdown",
   "metadata": {},
   "source": [
    "## Chapter 2: Getting Started"
   ]
  },
  {
   "cell_type": "markdown",
   "metadata": {},
   "source": [
    "<span style=\"color:red\">1. Add 2 2</span>"
   ]
  },
  {
   "cell_type": "code",
   "execution_count": 1,
   "metadata": {},
   "outputs": [
    {
     "data": {
      "text/html": [
       "4"
      ],
      "text/latex": [
       "4"
      ],
      "text/markdown": [
       "4"
      ],
      "text/plain": [
       "[1] 4"
      ]
     },
     "metadata": {},
     "output_type": "display_data"
    }
   ],
   "source": [
    "sum(2,2)"
   ]
  },
  {
   "cell_type": "markdown",
   "metadata": {},
   "source": [
    "<span style=\"color:red\">2. Generate numbers from 1 to 100</span>"
   ]
  },
  {
   "cell_type": "code",
   "execution_count": 2,
   "metadata": {},
   "outputs": [
    {
     "name": "stdout",
     "output_type": "stream",
     "text": [
      "[1] 1\n",
      "[1] 2\n",
      "[1] 3\n",
      "[1] 4\n",
      "[1] 5\n",
      "[1] 6\n",
      "[1] 7\n",
      "[1] 8\n",
      "[1] 9\n",
      "[1] 10\n",
      "[1] 11\n",
      "[1] 12\n",
      "[1] 13\n",
      "[1] 14\n",
      "[1] 15\n",
      "[1] 16\n",
      "[1] 17\n",
      "[1] 18\n",
      "[1] 19\n",
      "[1] 20\n",
      "[1] 21\n",
      "[1] 22\n",
      "[1] 23\n",
      "[1] 24\n",
      "[1] 25\n",
      "[1] 26\n",
      "[1] 27\n",
      "[1] 28\n",
      "[1] 29\n",
      "[1] 30\n",
      "[1] 31\n",
      "[1] 32\n",
      "[1] 33\n",
      "[1] 34\n",
      "[1] 35\n",
      "[1] 36\n",
      "[1] 37\n",
      "[1] 38\n",
      "[1] 39\n",
      "[1] 40\n",
      "[1] 41\n",
      "[1] 42\n",
      "[1] 43\n",
      "[1] 44\n",
      "[1] 45\n",
      "[1] 46\n",
      "[1] 47\n",
      "[1] 48\n",
      "[1] 49\n",
      "[1] 50\n",
      "[1] 51\n",
      "[1] 52\n",
      "[1] 53\n",
      "[1] 54\n",
      "[1] 55\n",
      "[1] 56\n",
      "[1] 57\n",
      "[1] 58\n",
      "[1] 59\n",
      "[1] 60\n",
      "[1] 61\n",
      "[1] 62\n",
      "[1] 63\n",
      "[1] 64\n",
      "[1] 65\n",
      "[1] 66\n",
      "[1] 67\n",
      "[1] 68\n",
      "[1] 69\n",
      "[1] 70\n",
      "[1] 71\n",
      "[1] 72\n",
      "[1] 73\n",
      "[1] 74\n",
      "[1] 75\n",
      "[1] 76\n",
      "[1] 77\n",
      "[1] 78\n",
      "[1] 79\n",
      "[1] 80\n",
      "[1] 81\n",
      "[1] 82\n",
      "[1] 83\n",
      "[1] 84\n",
      "[1] 85\n",
      "[1] 86\n",
      "[1] 87\n",
      "[1] 88\n",
      "[1] 89\n",
      "[1] 90\n",
      "[1] 91\n",
      "[1] 92\n",
      "[1] 93\n",
      "[1] 94\n",
      "[1] 95\n",
      "[1] 96\n",
      "[1] 97\n",
      "[1] 98\n",
      "[1] 99\n",
      "[1] 100\n"
     ]
    }
   ],
   "source": [
    "for(i in 1:100) \n",
    "    {\n",
    "    print(i)\n",
    "}"
   ]
  },
  {
   "cell_type": "markdown",
   "metadata": {},
   "source": [
    "<span style=\"color:red\">3. Print the string \"Hello World!\"</span>"
   ]
  },
  {
   "cell_type": "code",
   "execution_count": 3,
   "metadata": {},
   "outputs": [
    {
     "name": "stdout",
     "output_type": "stream",
     "text": [
      "[1] \"Hello World!\"\n"
     ]
    }
   ],
   "source": [
    "print(\"Hello World!\")"
   ]
  },
  {
   "cell_type": "markdown",
   "metadata": {},
   "source": [
    "<span style=\"color:red\">4. Create a variable `x` with the values of 1 to 5, this is a vector</span>"
   ]
  },
  {
   "cell_type": "code",
   "execution_count": 5,
   "metadata": {},
   "outputs": [
    {
     "data": {
      "text/html": [
       "<ol class=list-inline>\n",
       "\t<li>1</li>\n",
       "\t<li>2</li>\n",
       "\t<li>3</li>\n",
       "\t<li>4</li>\n",
       "\t<li>5</li>\n",
       "</ol>\n"
      ],
      "text/latex": [
       "\\begin{enumerate*}\n",
       "\\item 1\n",
       "\\item 2\n",
       "\\item 3\n",
       "\\item 4\n",
       "\\item 5\n",
       "\\end{enumerate*}\n"
      ],
      "text/markdown": [
       "1. 1\n",
       "2. 2\n",
       "3. 3\n",
       "4. 4\n",
       "5. 5\n",
       "\n",
       "\n"
      ],
      "text/plain": [
       "[1] 1 2 3 4 5"
      ]
     },
     "metadata": {},
     "output_type": "display_data"
    }
   ],
   "source": [
    "x <- 1:5;\n",
    "x"
   ]
  },
  {
   "cell_type": "markdown",
   "metadata": {},
   "source": [
    "# <span style=\"color:red\">5. Using the concatenate function `c()` to create a variable y with the values 6 to 10</span>   "
   ]
  },
  {
   "cell_type": "code",
   "execution_count": 6,
   "metadata": {},
   "outputs": [
    {
     "data": {
      "text/html": [
       "<ol class=list-inline>\n",
       "\t<li>6</li>\n",
       "\t<li>7</li>\n",
       "\t<li>8</li>\n",
       "\t<li>9</li>\n",
       "\t<li>10</li>\n",
       "</ol>\n"
      ],
      "text/latex": [
       "\\begin{enumerate*}\n",
       "\\item 6\n",
       "\\item 7\n",
       "\\item 8\n",
       "\\item 9\n",
       "\\item 10\n",
       "\\end{enumerate*}\n"
      ],
      "text/markdown": [
       "1. 6\n",
       "2. 7\n",
       "3. 8\n",
       "4. 9\n",
       "5. 10\n",
       "\n",
       "\n"
      ],
      "text/plain": [
       "[1]  6  7  8  9 10"
      ]
     },
     "metadata": {},
     "output_type": "display_data"
    }
   ],
   "source": [
    "y=c(6:10);\n",
    "y"
   ]
  },
  {
   "cell_type": "markdown",
   "metadata": {},
   "source": [
    "<span style=\"color:red\">6. Add variables `x` and `y` together</span>"
   ]
  },
  {
   "cell_type": "code",
   "execution_count": 7,
   "metadata": {},
   "outputs": [
    {
     "data": {
      "text/html": [
       "<ol class=list-inline>\n",
       "\t<li>7</li>\n",
       "\t<li>9</li>\n",
       "\t<li>11</li>\n",
       "\t<li>13</li>\n",
       "\t<li>15</li>\n",
       "</ol>\n"
      ],
      "text/latex": [
       "\\begin{enumerate*}\n",
       "\\item 7\n",
       "\\item 9\n",
       "\\item 11\n",
       "\\item 13\n",
       "\\item 15\n",
       "\\end{enumerate*}\n"
      ],
      "text/markdown": [
       "1. 7\n",
       "2. 9\n",
       "3. 11\n",
       "4. 13\n",
       "5. 15\n",
       "\n",
       "\n"
      ],
      "text/plain": [
       "[1]  7  9 11 13 15"
      ]
     },
     "metadata": {},
     "output_type": "display_data"
    }
   ],
   "source": [
    "sum = x+y;\n",
    "sum"
   ]
  },
  {
   "cell_type": "markdown",
   "metadata": {},
   "source": [
    "<span style=\"color:red\">7. Multiply the variable `x` by 2</span>"
   ]
  },
  {
   "cell_type": "code",
   "execution_count": 11,
   "metadata": {},
   "outputs": [
    {
     "data": {
      "text/html": [
       "<ol class=list-inline>\n",
       "\t<li>2</li>\n",
       "\t<li>4</li>\n",
       "\t<li>6</li>\n",
       "\t<li>8</li>\n",
       "\t<li>10</li>\n",
       "</ol>\n"
      ],
      "text/latex": [
       "\\begin{enumerate*}\n",
       "\\item 2\n",
       "\\item 4\n",
       "\\item 6\n",
       "\\item 8\n",
       "\\item 10\n",
       "\\end{enumerate*}\n"
      ],
      "text/markdown": [
       "1. 2\n",
       "2. 4\n",
       "3. 6\n",
       "4. 8\n",
       "5. 10\n",
       "\n",
       "\n"
      ],
      "text/plain": [
       "[1]  2  4  6  8 10"
      ]
     },
     "metadata": {},
     "output_type": "display_data"
    }
   ],
   "source": [
    "new = x*2;\n",
    "new;"
   ]
  },
  {
   "cell_type": "markdown",
   "metadata": {},
   "source": [
    "<span style=\"color:red\">8. Read the CSV file *social_network.csv* into a variable `sn.csv`, the data file is located within the Data directory included within this repository, headers are provided in this dataset.</span>"
   ]
  },
  {
   "cell_type": "code",
   "execution_count": 10,
   "metadata": {},
   "outputs": [
    {
     "data": {
      "text/html": [
       "<table>\n",
       "<thead><tr><th scope=col>ID</th><th scope=col>Gender</th><th scope=col>Age</th><th scope=col>Site</th><th scope=col>Times</th></tr></thead>\n",
       "<tbody>\n",
       "\t<tr><td> 1      </td><td>male    </td><td>24      </td><td>None    </td><td>  0     </td></tr>\n",
       "\t<tr><td> 2      </td><td>female  </td><td>26      </td><td>Facebook</td><td> 20     </td></tr>\n",
       "\t<tr><td> 3      </td><td>male    </td><td>54      </td><td>Facebook</td><td>  2     </td></tr>\n",
       "\t<tr><td> 4      </td><td>female  </td><td>42      </td><td>Facebook</td><td>  7     </td></tr>\n",
       "\t<tr><td> 5      </td><td>male    </td><td>54      </td><td>None    </td><td> NA     </td></tr>\n",
       "\t<tr><td> 6      </td><td>female  </td><td>21      </td><td>Facebook</td><td>  3     </td></tr>\n",
       "\t<tr><td> 7      </td><td>female  </td><td>NA      </td><td>None    </td><td> NA     </td></tr>\n",
       "\t<tr><td> 8      </td><td>male    </td><td>63      </td><td>None    </td><td>  0     </td></tr>\n",
       "\t<tr><td> 9      </td><td>female  </td><td>25      </td><td>None    </td><td> NA     </td></tr>\n",
       "\t<tr><td>10      </td><td>female  </td><td>21      </td><td>Facebook</td><td> 14     </td></tr>\n",
       "\t<tr><td>11      </td><td>female  </td><td>18      </td><td>Facebook</td><td> 15     </td></tr>\n",
       "\t<tr><td>12      </td><td>female  </td><td>18      </td><td>MySpace </td><td>  6     </td></tr>\n",
       "\t<tr><td>13      </td><td>male    </td><td>19      </td><td>Other   </td><td>  1     </td></tr>\n",
       "\t<tr><td>14      </td><td>female  </td><td>NA      </td><td>MySpace </td><td>200     </td></tr>\n",
       "\t<tr><td>15      </td><td>female  </td><td>52      </td><td>None    </td><td>  0     </td></tr>\n",
       "\t<tr><td>16      </td><td>female  </td><td>28      </td><td>MySpace </td><td>  3     </td></tr>\n",
       "\t<tr><td>17      </td><td>male    </td><td>21      </td><td>Facebook</td><td> 10     </td></tr>\n",
       "\t<tr><td>18      </td><td>male    </td><td>18      </td><td>None    </td><td> NA     </td></tr>\n",
       "\t<tr><td>19      </td><td>female  </td><td>24      </td><td>Other   </td><td>  7     </td></tr>\n",
       "\t<tr><td>20      </td><td>female  </td><td> 6      </td><td>LinkedIn</td><td> NA     </td></tr>\n",
       "\t<tr><td>21      </td><td>female  </td><td>26      </td><td>Facebook</td><td>  1     </td></tr>\n",
       "\t<tr><td>22      </td><td>male    </td><td>28      </td><td>Facebook</td><td>  7     </td></tr>\n",
       "\t<tr><td>23      </td><td>female  </td><td>39      </td><td>Facebook</td><td> 15     </td></tr>\n",
       "\t<tr><td>24      </td><td>male    </td><td>55      </td><td>None    </td><td> NA     </td></tr>\n",
       "\t<tr><td>25      </td><td>female  </td><td>26      </td><td>Facebook</td><td> 10     </td></tr>\n",
       "\t<tr><td>26      </td><td>female  </td><td>44      </td><td>None    </td><td>  0     </td></tr>\n",
       "\t<tr><td>27      </td><td>female  </td><td>29      </td><td>Facebook</td><td> 10     </td></tr>\n",
       "\t<tr><td>28      </td><td>male    </td><td>28      </td><td>None    </td><td> NA     </td></tr>\n",
       "\t<tr><td>29      </td><td>male    </td><td>45      </td><td>Other   </td><td>  5     </td></tr>\n",
       "\t<tr><td>30      </td><td>male    </td><td>17      </td><td>Facebook</td><td>704     </td></tr>\n",
       "\t<tr><td>...</td><td>...</td><td>...</td><td>...</td><td>...</td></tr>\n",
       "\t<tr><td>173     </td><td>female  </td><td>21      </td><td>None    </td><td> 0      </td></tr>\n",
       "\t<tr><td>174     </td><td>female  </td><td>20      </td><td>Facebook</td><td>10      </td></tr>\n",
       "\t<tr><td>175     </td><td>male    </td><td>30      </td><td>None    </td><td> 0      </td></tr>\n",
       "\t<tr><td>176     </td><td>male    </td><td>50      </td><td>None    </td><td> 0      </td></tr>\n",
       "\t<tr><td>177     </td><td>male    </td><td>48      </td><td>None    </td><td> 2      </td></tr>\n",
       "\t<tr><td>178     </td><td>male    </td><td>32      </td><td>None    </td><td> 0      </td></tr>\n",
       "\t<tr><td>179     </td><td>female  </td><td>59      </td><td>Other   </td><td> 1      </td></tr>\n",
       "\t<tr><td>180     </td><td>female  </td><td>17      </td><td>MySpace </td><td> 3      </td></tr>\n",
       "\t<tr><td>181     </td><td>male    </td><td>27      </td><td>None    </td><td>NA      </td></tr>\n",
       "\t<tr><td>182     </td><td>female  </td><td>27      </td><td>None    </td><td> 3      </td></tr>\n",
       "\t<tr><td>183     </td><td>female  </td><td>18      </td><td>Facebook</td><td>30      </td></tr>\n",
       "\t<tr><td>184     </td><td>female  </td><td>29      </td><td>Facebook</td><td> 7      </td></tr>\n",
       "\t<tr><td>185     </td><td>female  </td><td>45      </td><td>None    </td><td> 0      </td></tr>\n",
       "\t<tr><td>186     </td><td>male    </td><td>39      </td><td>None    </td><td> 0      </td></tr>\n",
       "\t<tr><td>187     </td><td>male    </td><td>40      </td><td>None    </td><td> 0      </td></tr>\n",
       "\t<tr><td>188     </td><td>male    </td><td>38      </td><td>Other   </td><td> 7      </td></tr>\n",
       "\t<tr><td>189     </td><td>female  </td><td>24      </td><td>MySpace </td><td> 2      </td></tr>\n",
       "\t<tr><td>190     </td><td>female  </td><td>31      </td><td>Facebook</td><td> 7      </td></tr>\n",
       "\t<tr><td>191     </td><td>male    </td><td>51      </td><td>LinkedIn</td><td> 2      </td></tr>\n",
       "\t<tr><td>192     </td><td>male    </td><td>43      </td><td>None    </td><td>NA      </td></tr>\n",
       "\t<tr><td>193     </td><td>male    </td><td>39      </td><td>Facebook</td><td> 2      </td></tr>\n",
       "\t<tr><td>194     </td><td>female  </td><td>27      </td><td>None    </td><td>NA      </td></tr>\n",
       "\t<tr><td>195     </td><td>female  </td><td>19      </td><td>Facebook</td><td>35      </td></tr>\n",
       "\t<tr><td>196     </td><td>male    </td><td>48      </td><td>LinkedIn</td><td>25      </td></tr>\n",
       "\t<tr><td>197     </td><td>male    </td><td>26      </td><td>Other   </td><td>10      </td></tr>\n",
       "\t<tr><td>198     </td><td>female  </td><td>22      </td><td>Facebook</td><td> 5      </td></tr>\n",
       "\t<tr><td>199     </td><td>male    </td><td>39      </td><td>None    </td><td>NA      </td></tr>\n",
       "\t<tr><td>200     </td><td>male    </td><td>22      </td><td>None    </td><td> 5      </td></tr>\n",
       "\t<tr><td>201     </td><td>female  </td><td>28      </td><td>Facebook</td><td> 3      </td></tr>\n",
       "\t<tr><td>202     </td><td>female  </td><td>17      </td><td>Facebook</td><td> 8      </td></tr>\n",
       "</tbody>\n",
       "</table>\n"
      ],
      "text/latex": [
       "\\begin{tabular}{r|lllll}\n",
       " ID & Gender & Age & Site & Times\\\\\n",
       "\\hline\n",
       "\t  1       & male     & 24       & None     &   0     \\\\\n",
       "\t  2       & female   & 26       & Facebook &  20     \\\\\n",
       "\t  3       & male     & 54       & Facebook &   2     \\\\\n",
       "\t  4       & female   & 42       & Facebook &   7     \\\\\n",
       "\t  5       & male     & 54       & None     &  NA     \\\\\n",
       "\t  6       & female   & 21       & Facebook &   3     \\\\\n",
       "\t  7       & female   & NA       & None     &  NA     \\\\\n",
       "\t  8       & male     & 63       & None     &   0     \\\\\n",
       "\t  9       & female   & 25       & None     &  NA     \\\\\n",
       "\t 10       & female   & 21       & Facebook &  14     \\\\\n",
       "\t 11       & female   & 18       & Facebook &  15     \\\\\n",
       "\t 12       & female   & 18       & MySpace  &   6     \\\\\n",
       "\t 13       & male     & 19       & Other    &   1     \\\\\n",
       "\t 14       & female   & NA       & MySpace  & 200     \\\\\n",
       "\t 15       & female   & 52       & None     &   0     \\\\\n",
       "\t 16       & female   & 28       & MySpace  &   3     \\\\\n",
       "\t 17       & male     & 21       & Facebook &  10     \\\\\n",
       "\t 18       & male     & 18       & None     &  NA     \\\\\n",
       "\t 19       & female   & 24       & Other    &   7     \\\\\n",
       "\t 20       & female   &  6       & LinkedIn &  NA     \\\\\n",
       "\t 21       & female   & 26       & Facebook &   1     \\\\\n",
       "\t 22       & male     & 28       & Facebook &   7     \\\\\n",
       "\t 23       & female   & 39       & Facebook &  15     \\\\\n",
       "\t 24       & male     & 55       & None     &  NA     \\\\\n",
       "\t 25       & female   & 26       & Facebook &  10     \\\\\n",
       "\t 26       & female   & 44       & None     &   0     \\\\\n",
       "\t 27       & female   & 29       & Facebook &  10     \\\\\n",
       "\t 28       & male     & 28       & None     &  NA     \\\\\n",
       "\t 29       & male     & 45       & Other    &   5     \\\\\n",
       "\t 30       & male     & 17       & Facebook & 704     \\\\\n",
       "\t ... & ... & ... & ... & ...\\\\\n",
       "\t 173      & female   & 21       & None     &  0      \\\\\n",
       "\t 174      & female   & 20       & Facebook & 10      \\\\\n",
       "\t 175      & male     & 30       & None     &  0      \\\\\n",
       "\t 176      & male     & 50       & None     &  0      \\\\\n",
       "\t 177      & male     & 48       & None     &  2      \\\\\n",
       "\t 178      & male     & 32       & None     &  0      \\\\\n",
       "\t 179      & female   & 59       & Other    &  1      \\\\\n",
       "\t 180      & female   & 17       & MySpace  &  3      \\\\\n",
       "\t 181      & male     & 27       & None     & NA      \\\\\n",
       "\t 182      & female   & 27       & None     &  3      \\\\\n",
       "\t 183      & female   & 18       & Facebook & 30      \\\\\n",
       "\t 184      & female   & 29       & Facebook &  7      \\\\\n",
       "\t 185      & female   & 45       & None     &  0      \\\\\n",
       "\t 186      & male     & 39       & None     &  0      \\\\\n",
       "\t 187      & male     & 40       & None     &  0      \\\\\n",
       "\t 188      & male     & 38       & Other    &  7      \\\\\n",
       "\t 189      & female   & 24       & MySpace  &  2      \\\\\n",
       "\t 190      & female   & 31       & Facebook &  7      \\\\\n",
       "\t 191      & male     & 51       & LinkedIn &  2      \\\\\n",
       "\t 192      & male     & 43       & None     & NA      \\\\\n",
       "\t 193      & male     & 39       & Facebook &  2      \\\\\n",
       "\t 194      & female   & 27       & None     & NA      \\\\\n",
       "\t 195      & female   & 19       & Facebook & 35      \\\\\n",
       "\t 196      & male     & 48       & LinkedIn & 25      \\\\\n",
       "\t 197      & male     & 26       & Other    & 10      \\\\\n",
       "\t 198      & female   & 22       & Facebook &  5      \\\\\n",
       "\t 199      & male     & 39       & None     & NA      \\\\\n",
       "\t 200      & male     & 22       & None     &  5      \\\\\n",
       "\t 201      & female   & 28       & Facebook &  3      \\\\\n",
       "\t 202      & female   & 17       & Facebook &  8      \\\\\n",
       "\\end{tabular}\n"
      ],
      "text/markdown": [
       "\n",
       "ID | Gender | Age | Site | Times | \n",
       "|---|---|---|---|---|---|---|---|---|---|---|---|---|---|---|---|---|---|---|---|---|---|---|---|---|---|---|---|---|---|---|---|---|---|---|---|---|---|---|---|---|---|---|---|---|---|---|---|---|---|---|---|---|---|---|---|---|---|---|---|---|\n",
       "|  1       | male     | 24       | None     |   0      | \n",
       "|  2       | female   | 26       | Facebook |  20      | \n",
       "|  3       | male     | 54       | Facebook |   2      | \n",
       "|  4       | female   | 42       | Facebook |   7      | \n",
       "|  5       | male     | 54       | None     |  NA      | \n",
       "|  6       | female   | 21       | Facebook |   3      | \n",
       "|  7       | female   | NA       | None     |  NA      | \n",
       "|  8       | male     | 63       | None     |   0      | \n",
       "|  9       | female   | 25       | None     |  NA      | \n",
       "| 10       | female   | 21       | Facebook |  14      | \n",
       "| 11       | female   | 18       | Facebook |  15      | \n",
       "| 12       | female   | 18       | MySpace  |   6      | \n",
       "| 13       | male     | 19       | Other    |   1      | \n",
       "| 14       | female   | NA       | MySpace  | 200      | \n",
       "| 15       | female   | 52       | None     |   0      | \n",
       "| 16       | female   | 28       | MySpace  |   3      | \n",
       "| 17       | male     | 21       | Facebook |  10      | \n",
       "| 18       | male     | 18       | None     |  NA      | \n",
       "| 19       | female   | 24       | Other    |   7      | \n",
       "| 20       | female   |  6       | LinkedIn |  NA      | \n",
       "| 21       | female   | 26       | Facebook |   1      | \n",
       "| 22       | male     | 28       | Facebook |   7      | \n",
       "| 23       | female   | 39       | Facebook |  15      | \n",
       "| 24       | male     | 55       | None     |  NA      | \n",
       "| 25       | female   | 26       | Facebook |  10      | \n",
       "| 26       | female   | 44       | None     |   0      | \n",
       "| 27       | female   | 29       | Facebook |  10      | \n",
       "| 28       | male     | 28       | None     |  NA      | \n",
       "| 29       | male     | 45       | Other    |   5      | \n",
       "| 30       | male     | 17       | Facebook | 704      | \n",
       "| ... | ... | ... | ... | ... | \n",
       "| 173      | female   | 21       | None     |  0       | \n",
       "| 174      | female   | 20       | Facebook | 10       | \n",
       "| 175      | male     | 30       | None     |  0       | \n",
       "| 176      | male     | 50       | None     |  0       | \n",
       "| 177      | male     | 48       | None     |  2       | \n",
       "| 178      | male     | 32       | None     |  0       | \n",
       "| 179      | female   | 59       | Other    |  1       | \n",
       "| 180      | female   | 17       | MySpace  |  3       | \n",
       "| 181      | male     | 27       | None     | NA       | \n",
       "| 182      | female   | 27       | None     |  3       | \n",
       "| 183      | female   | 18       | Facebook | 30       | \n",
       "| 184      | female   | 29       | Facebook |  7       | \n",
       "| 185      | female   | 45       | None     |  0       | \n",
       "| 186      | male     | 39       | None     |  0       | \n",
       "| 187      | male     | 40       | None     |  0       | \n",
       "| 188      | male     | 38       | Other    |  7       | \n",
       "| 189      | female   | 24       | MySpace  |  2       | \n",
       "| 190      | female   | 31       | Facebook |  7       | \n",
       "| 191      | male     | 51       | LinkedIn |  2       | \n",
       "| 192      | male     | 43       | None     | NA       | \n",
       "| 193      | male     | 39       | Facebook |  2       | \n",
       "| 194      | female   | 27       | None     | NA       | \n",
       "| 195      | female   | 19       | Facebook | 35       | \n",
       "| 196      | male     | 48       | LinkedIn | 25       | \n",
       "| 197      | male     | 26       | Other    | 10       | \n",
       "| 198      | female   | 22       | Facebook |  5       | \n",
       "| 199      | male     | 39       | None     | NA       | \n",
       "| 200      | male     | 22       | None     |  5       | \n",
       "| 201      | female   | 28       | Facebook |  3       | \n",
       "| 202      | female   | 17       | Facebook |  8       | \n",
       "\n",
       "\n"
      ],
      "text/plain": [
       "    ID  Gender Age Site     Times\n",
       "1    1  male   24  None       0  \n",
       "2    2  female 26  Facebook  20  \n",
       "3    3  male   54  Facebook   2  \n",
       "4    4  female 42  Facebook   7  \n",
       "5    5  male   54  None      NA  \n",
       "6    6  female 21  Facebook   3  \n",
       "7    7  female NA  None      NA  \n",
       "8    8  male   63  None       0  \n",
       "9    9  female 25  None      NA  \n",
       "10  10  female 21  Facebook  14  \n",
       "11  11  female 18  Facebook  15  \n",
       "12  12  female 18  MySpace    6  \n",
       "13  13  male   19  Other      1  \n",
       "14  14  female NA  MySpace  200  \n",
       "15  15  female 52  None       0  \n",
       "16  16  female 28  MySpace    3  \n",
       "17  17  male   21  Facebook  10  \n",
       "18  18  male   18  None      NA  \n",
       "19  19  female 24  Other      7  \n",
       "20  20  female  6  LinkedIn  NA  \n",
       "21  21  female 26  Facebook   1  \n",
       "22  22  male   28  Facebook   7  \n",
       "23  23  female 39  Facebook  15  \n",
       "24  24  male   55  None      NA  \n",
       "25  25  female 26  Facebook  10  \n",
       "26  26  female 44  None       0  \n",
       "27  27  female 29  Facebook  10  \n",
       "28  28  male   28  None      NA  \n",
       "29  29  male   45  Other      5  \n",
       "30  30  male   17  Facebook 704  \n",
       "... ... ...    ... ...      ...  \n",
       "173 173 female 21  None      0   \n",
       "174 174 female 20  Facebook 10   \n",
       "175 175 male   30  None      0   \n",
       "176 176 male   50  None      0   \n",
       "177 177 male   48  None      2   \n",
       "178 178 male   32  None      0   \n",
       "179 179 female 59  Other     1   \n",
       "180 180 female 17  MySpace   3   \n",
       "181 181 male   27  None     NA   \n",
       "182 182 female 27  None      3   \n",
       "183 183 female 18  Facebook 30   \n",
       "184 184 female 29  Facebook  7   \n",
       "185 185 female 45  None      0   \n",
       "186 186 male   39  None      0   \n",
       "187 187 male   40  None      0   \n",
       "188 188 male   38  Other     7   \n",
       "189 189 female 24  MySpace   2   \n",
       "190 190 female 31  Facebook  7   \n",
       "191 191 male   51  LinkedIn  2   \n",
       "192 192 male   43  None     NA   \n",
       "193 193 male   39  Facebook  2   \n",
       "194 194 female 27  None     NA   \n",
       "195 195 female 19  Facebook 35   \n",
       "196 196 male   48  LinkedIn 25   \n",
       "197 197 male   26  Other    10   \n",
       "198 198 female 22  Facebook  5   \n",
       "199 199 male   39  None     NA   \n",
       "200 200 male   22  None      5   \n",
       "201 201 female 28  Facebook  3   \n",
       "202 202 female 17  Facebook  8   "
      ]
     },
     "metadata": {},
     "output_type": "display_data"
    }
   ],
   "source": [
    "sn.csv <- read.csv(file = 'Data/social_network.csv')\n",
    "sn.csv"
   ]
  },
  {
   "cell_type": "markdown",
   "metadata": {},
   "source": [
    "<span style=\"color:red\">9. Use the `search()` function to see what R packages you have installed.</span>"
   ]
  },
  {
   "cell_type": "code",
   "execution_count": 14,
   "metadata": {},
   "outputs": [
    {
     "data": {
      "text/html": [
       "<ol class=list-inline>\n",
       "\t<li>'.GlobalEnv'</li>\n",
       "\t<li>'jupyter:irkernel'</li>\n",
       "\t<li>'jupyter:irkernel'</li>\n",
       "\t<li>'package:stats'</li>\n",
       "\t<li>'package:graphics'</li>\n",
       "\t<li>'package:grDevices'</li>\n",
       "\t<li>'package:utils'</li>\n",
       "\t<li>'package:datasets'</li>\n",
       "\t<li>'package:methods'</li>\n",
       "\t<li>'Autoloads'</li>\n",
       "\t<li>'package:base'</li>\n",
       "</ol>\n"
      ],
      "text/latex": [
       "\\begin{enumerate*}\n",
       "\\item '.GlobalEnv'\n",
       "\\item 'jupyter:irkernel'\n",
       "\\item 'jupyter:irkernel'\n",
       "\\item 'package:stats'\n",
       "\\item 'package:graphics'\n",
       "\\item 'package:grDevices'\n",
       "\\item 'package:utils'\n",
       "\\item 'package:datasets'\n",
       "\\item 'package:methods'\n",
       "\\item 'Autoloads'\n",
       "\\item 'package:base'\n",
       "\\end{enumerate*}\n"
      ],
      "text/markdown": [
       "1. '.GlobalEnv'\n",
       "2. 'jupyter:irkernel'\n",
       "3. 'jupyter:irkernel'\n",
       "4. 'package:stats'\n",
       "5. 'package:graphics'\n",
       "6. 'package:grDevices'\n",
       "7. 'package:utils'\n",
       "8. 'package:datasets'\n",
       "9. 'package:methods'\n",
       "10. 'Autoloads'\n",
       "11. 'package:base'\n",
       "\n",
       "\n"
      ],
      "text/plain": [
       " [1] \".GlobalEnv\"        \"jupyter:irkernel\"  \"jupyter:irkernel\" \n",
       " [4] \"package:stats\"     \"package:graphics\"  \"package:grDevices\"\n",
       " [7] \"package:utils\"     \"package:datasets\"  \"package:methods\"  \n",
       "[10] \"Autoloads\"         \"package:base\"     "
      ]
     },
     "metadata": {},
     "output_type": "display_data"
    }
   ],
   "source": [
    "search()"
   ]
  },
  {
   "cell_type": "markdown",
   "metadata": {},
   "source": [
    "<span style=\"color:red\">10. Install the package *psych* using the `install.packages()` function.</span>"
   ]
  },
  {
   "cell_type": "code",
   "execution_count": 20,
   "metadata": {},
   "outputs": [
    {
     "name": "stderr",
     "output_type": "stream",
     "text": [
      "also installing the dependency 'mnormt'\n",
      "\n"
     ]
    },
    {
     "name": "stdout",
     "output_type": "stream",
     "text": [
      "package 'mnormt' successfully unpacked and MD5 sums checked\n",
      "package 'psych' successfully unpacked and MD5 sums checked\n",
      "\n",
      "The downloaded binary packages are in\n",
      "\tC:\\Users\\ts848\\AppData\\Local\\Temp\\RtmpqcsNyG\\downloaded_packages\n"
     ]
    }
   ],
   "source": [
    "install.packages('psych', repos='http://cran.us.r-project.org')"
   ]
  },
  {
   "cell_type": "markdown",
   "metadata": {},
   "source": [
    "<span style=\"color:red\">11. Load the library psych so that you can use it within your jupyter notebook. Run the `search()` function again after you load the library to see the psych package now in your list of loaded packages.</span>"
   ]
  },
  {
   "cell_type": "code",
   "execution_count": 36,
   "metadata": {},
   "outputs": [
    {
     "name": "stderr",
     "output_type": "stream",
     "text": [
      "Warning message:\n",
      "\"package 'psych' was built under R version 3.5.2\""
     ]
    },
    {
     "data": {
      "text/html": [
       "<ol class=list-inline>\n",
       "\t<li>'.GlobalEnv'</li>\n",
       "\t<li>'package:psych'</li>\n",
       "\t<li>'jupyter:irkernel'</li>\n",
       "\t<li>'jupyter:irkernel'</li>\n",
       "\t<li>'package:stats'</li>\n",
       "\t<li>'package:graphics'</li>\n",
       "\t<li>'package:grDevices'</li>\n",
       "\t<li>'package:utils'</li>\n",
       "\t<li>'package:datasets'</li>\n",
       "\t<li>'package:methods'</li>\n",
       "\t<li>'Autoloads'</li>\n",
       "\t<li>'package:base'</li>\n",
       "</ol>\n"
      ],
      "text/latex": [
       "\\begin{enumerate*}\n",
       "\\item '.GlobalEnv'\n",
       "\\item 'package:psych'\n",
       "\\item 'jupyter:irkernel'\n",
       "\\item 'jupyter:irkernel'\n",
       "\\item 'package:stats'\n",
       "\\item 'package:graphics'\n",
       "\\item 'package:grDevices'\n",
       "\\item 'package:utils'\n",
       "\\item 'package:datasets'\n",
       "\\item 'package:methods'\n",
       "\\item 'Autoloads'\n",
       "\\item 'package:base'\n",
       "\\end{enumerate*}\n"
      ],
      "text/markdown": [
       "1. '.GlobalEnv'\n",
       "2. 'package:psych'\n",
       "3. 'jupyter:irkernel'\n",
       "4. 'jupyter:irkernel'\n",
       "5. 'package:stats'\n",
       "6. 'package:graphics'\n",
       "7. 'package:grDevices'\n",
       "8. 'package:utils'\n",
       "9. 'package:datasets'\n",
       "10. 'package:methods'\n",
       "11. 'Autoloads'\n",
       "12. 'package:base'\n",
       "\n",
       "\n"
      ],
      "text/plain": [
       " [1] \".GlobalEnv\"        \"package:psych\"     \"jupyter:irkernel\" \n",
       " [4] \"jupyter:irkernel\"  \"package:stats\"     \"package:graphics\" \n",
       " [7] \"package:grDevices\" \"package:utils\"     \"package:datasets\" \n",
       "[10] \"package:methods\"   \"Autoloads\"         \"package:base\"     "
      ]
     },
     "metadata": {},
     "output_type": "display_data"
    }
   ],
   "source": [
    "library(psych)\n",
    "search()"
   ]
  },
  {
   "cell_type": "markdown",
   "metadata": {},
   "source": [
    "<span style=\"font-family:verdana;color:green;font-size:200%;text-align:center\">Browse Vignettes Does Not Appear to Work from within Juypter Notebooks as mentioned in the video - you can google on your own any package and find the same information.</span>"
   ]
  },
  {
   "cell_type": "markdown",
   "metadata": {},
   "source": [
    "<span style=\"color:red\">12. Detach they psych package from this notebook (kernel) and run the `search()` function again to see it removed.</span>"
   ]
  },
  {
   "cell_type": "code",
   "execution_count": 37,
   "metadata": {},
   "outputs": [
    {
     "data": {
      "text/html": [
       "<ol class=list-inline>\n",
       "\t<li>'.GlobalEnv'</li>\n",
       "\t<li>'jupyter:irkernel'</li>\n",
       "\t<li>'jupyter:irkernel'</li>\n",
       "\t<li>'package:stats'</li>\n",
       "\t<li>'package:graphics'</li>\n",
       "\t<li>'package:grDevices'</li>\n",
       "\t<li>'package:utils'</li>\n",
       "\t<li>'package:datasets'</li>\n",
       "\t<li>'package:methods'</li>\n",
       "\t<li>'Autoloads'</li>\n",
       "\t<li>'package:base'</li>\n",
       "</ol>\n"
      ],
      "text/latex": [
       "\\begin{enumerate*}\n",
       "\\item '.GlobalEnv'\n",
       "\\item 'jupyter:irkernel'\n",
       "\\item 'jupyter:irkernel'\n",
       "\\item 'package:stats'\n",
       "\\item 'package:graphics'\n",
       "\\item 'package:grDevices'\n",
       "\\item 'package:utils'\n",
       "\\item 'package:datasets'\n",
       "\\item 'package:methods'\n",
       "\\item 'Autoloads'\n",
       "\\item 'package:base'\n",
       "\\end{enumerate*}\n"
      ],
      "text/markdown": [
       "1. '.GlobalEnv'\n",
       "2. 'jupyter:irkernel'\n",
       "3. 'jupyter:irkernel'\n",
       "4. 'package:stats'\n",
       "5. 'package:graphics'\n",
       "6. 'package:grDevices'\n",
       "7. 'package:utils'\n",
       "8. 'package:datasets'\n",
       "9. 'package:methods'\n",
       "10. 'Autoloads'\n",
       "11. 'package:base'\n",
       "\n",
       "\n"
      ],
      "text/plain": [
       " [1] \".GlobalEnv\"        \"jupyter:irkernel\"  \"jupyter:irkernel\" \n",
       " [4] \"package:stats\"     \"package:graphics\"  \"package:grDevices\"\n",
       " [7] \"package:utils\"     \"package:datasets\"  \"package:methods\"  \n",
       "[10] \"Autoloads\"         \"package:base\"     "
      ]
     },
     "metadata": {},
     "output_type": "display_data"
    }
   ],
   "source": [
    "detach(package:psych)\n",
    "search()"
   ]
  },
  {
   "cell_type": "markdown",
   "metadata": {},
   "source": [
    "## Chapter 3: Charts and Statistics for One Variable"
   ]
  },
  {
   "cell_type": "markdown",
   "metadata": {},
   "source": [
    "<span style=\"color:red\">13. Create a `table` that contains how often a site is visited as recorded in the *social_network.csv* file, that we loaded into the variable `sn.csv` earlier and call the variable `site.freq`. Print the variable.</span>"
   ]
  },
  {
   "cell_type": "code",
   "execution_count": 29,
   "metadata": {},
   "outputs": [
    {
     "data": {
      "text/plain": [
       "\n",
       "Facebook LinkedIn  MySpace     None    Other  Twitter \n",
       "      93        3       22       70       11        3 "
      ]
     },
     "metadata": {},
     "output_type": "display_data"
    }
   ],
   "source": [
    "site.freq <- table(sn.csv$Site)\n",
    "site.freq"
   ]
  },
  {
   "cell_type": "markdown",
   "metadata": {},
   "source": [
    "<span style=\"color:red\">14. Create a barplot of the variable `site.freq`.</span>"
   ]
  },
  {
   "cell_type": "code",
   "execution_count": 30,
   "metadata": {},
   "outputs": [
    {
     "data": {
      "image/png": "[encoded data removed]",
      "text/plain": [
       "plot without title"
      ]
     },
     "metadata": {},
     "output_type": "display_data"
    }
   ],
   "source": [
    "barplot(site.freq)"
   ]
  },
  {
   "cell_type": "markdown",
   "metadata": {},
   "source": [
    "<span style=\"color:red\">15. Redo the barplot with the bars in descending order.</span>"
   ]
  },
  {
   "cell_type": "code",
   "execution_count": 32,
   "metadata": {
    "scrolled": true
   },
   "outputs": [
    {
     "data": {
      "image/png": "[encoded data removed]",
      "text/plain": [
       "plot without title"
      ]
     },
     "metadata": {},
     "output_type": "display_data"
    }
   ],
   "source": [
    "barplot(site.freq[order(site.freq,decreasing='T')])"
   ]
  },
  {
   "cell_type": "markdown",
   "metadata": {},
   "source": [
    "<span style=\"color:red\">16. Change the barplot from being vertical to horizontal.</span>"
   ]
  },
  {
   "cell_type": "code",
   "execution_count": 34,
   "metadata": {},
   "outputs": [
    {
     "data": {
      "image/png": "[encoded data removed]",
      "text/plain": [
       "plot without title"
      ]
     },
     "metadata": {},
     "output_type": "display_data"
    }
   ],
   "source": [
    "barplot(site.freq[order(site.freq)],horiz='T')"
   ]
  },
  {
   "cell_type": "markdown",
   "metadata": {},
   "source": [
    "<span style=\"color:red\">17. Create a *color vector* to color the facebook column *Facebook Blue* (67, 103, 178), the LinkedIn column *LinkedIn Blue* (2, 115, 177), the Twitter column *Twitter Blue* (29, 161, 242) and the other columns gray. Use this color vector with barplot to recolor the graph.</span>"
   ]
  },
  {
   "cell_type": "code",
   "execution_count": 40,
   "metadata": {},
   "outputs": [
    {
     "data": {
      "image/png": "[encoded data removed]",
      "text/plain": [
       "plot without title"
      ]
     },
     "metadata": {},
     "output_type": "display_data"
    }
   ],
   "source": [
    "fb <- c(rgb(2, 115, 177,maxColorValue=255),rgb(29, 161, 242,maxColorValue=255),rep(\"gray\",3),rgb(67, 103, 178,maxColorValue=255))\n",
    "\n",
    "barplot(site.freq[order(site.freq)],horiz='T',col=fb)"
   ]
  },
  {
   "cell_type": "markdown",
   "metadata": {},
   "source": [
    "<span style=\"color:red\">18. Complete the graph by turning off the border, adding a title *Preferred Social Networking Site\\nA Survey of 202 Users*, changing the x range to 0 - 100, and adding a x label *Number of Users*</span>"
   ]
  },
  {
   "cell_type": "code",
   "execution_count": 42,
   "metadata": {},
   "outputs": [
    {
     "data": {
      "image/png": "[encoded data removed]",
      "text/plain": [
       "Plot with title \"Preferred Social Networking Site\n",
       "A Survey of 202 Users\""
      ]
     },
     "metadata": {},
     "output_type": "display_data"
    }
   ],
   "source": [
    "barplot(site.freq[order(site.freq)],horiz='T',border= NA, xlim = c(0,100),main=\"Preferred Social Networking Site\\nA Survey of 202 Users\",xlab=\" Number of Users\")"
   ]
  },
  {
   "cell_type": "markdown",
   "metadata": {},
   "source": [
    "<span style=\"font-family:verdana;color:green;font-size:200%;text-align:center\">**Reminder**: you can do `?boxplot` to get more information about the function.</span>\n"
   ]
  },
  {
   "cell_type": "markdown",
   "metadata": {},
   "source": [
    "<span style=\"color:red\">19. Create a histogram of the age of respondents to the social network survey.</span>"
   ]
  },
  {
   "cell_type": "code",
   "execution_count": 43,
   "metadata": {},
   "outputs": [
    {
     "data": {
      "image/png": "[encoded data removed]",
      "text/plain": [
       "Plot with title \"Histogram of sn.csv$Age\""
      ]
     },
     "metadata": {},
     "output_type": "display_data"
    }
   ],
   "source": [
    "hist(sn.csv$Age)"
   ]
  },
  {
   "cell_type": "markdown",
   "metadata": {},
   "source": [
    "<span style=\"color:red\">20. Modify your histogram to change the color to *darkorchid*, add a title *Ages of Respondents\\nSocial Networking Survey of 202 Users*, and put a label on the x axis *Age of Respondents*.</span>"
   ]
  },
  {
   "cell_type": "code",
   "execution_count": 44,
   "metadata": {},
   "outputs": [
    {
     "data": {
      "image/png": "[encoded data removed]",
      "text/plain": [
       "Plot with title \"Ages of Respondents\n",
       "Social Networking Survey of 202 Users\""
      ]
     },
     "metadata": {},
     "output_type": "display_data"
    }
   ],
   "source": [
    "hist(sn.csv$Age,col=\"darkorchid\", main=\"Ages of Respondents\\nSocial Networking Survey of 202 Users\",xlab=\"Age of Respondents\") "
   ]
  },
  {
   "cell_type": "markdown",
   "metadata": {},
   "source": [
    "<span style=\"color:red\">21. Create a boxplot of the age of respondents to the social network survey.</span>"
   ]
  },
  {
   "cell_type": "code",
   "execution_count": 26,
   "metadata": {},
   "outputs": [
    {
     "data": {
      "image/png": "[encoded data removed]",
      "text/plain": [
       "plot without title"
      ]
     },
     "metadata": {},
     "output_type": "display_data"
    }
   ],
   "source": [
    "boxplot(sn.csv$Age)"
   ]
  },
  {
   "cell_type": "markdown",
   "metadata": {},
   "source": [
    "<span style=\"color:red\">22. Modify your boxplot to change the color to *darkorchid*, add a title *Ages of Respondents\\nSocial Networking Survey of 202 Users*, and put a label on the y axis *Age of Respondents*.</span>"
   ]
  },
  {
   "cell_type": "code",
   "execution_count": 28,
   "metadata": {},
   "outputs": [
    {
     "data": {
      "image/png": "[encoded data removed]",
      "text/plain": [
       "Plot with title \"Ages of Respondents\n",
       "Social Networking Survey of 202 Users\""
      ]
     },
     "metadata": {},
     "output_type": "display_data"
    }
   ],
   "source": [
    "boxplot(sn.csv$Age,col=\"darkorchid\",main=\"Ages of Respondents\\nSocial Networking Survey of 202 Users\",ylab=\"Age of Respondents\")"
   ]
  },
  {
   "cell_type": "markdown",
   "metadata": {},
   "source": [
    "<span style=\"color:red\">23. Convert the summary of the frequency of visits to a given site into proportion of the total visits represent the result to 3 decimals.<span>"
   ]
  },
  {
   "cell_type": "code",
   "execution_count": 46,
   "metadata": {},
   "outputs": [
    {
     "data": {
      "text/plain": [
       "\n",
       "  Facebook   LinkedIn    MySpace       None      Other    Twitter \n",
       "0.46039604 0.01485149 0.10891089 0.34653465 0.05445545 0.01485149 "
      ]
     },
     "metadata": {},
     "output_type": "display_data"
    },
    {
     "data": {
      "text/plain": [
       "\n",
       "Facebook LinkedIn  MySpace     None    Other  Twitter \n",
       "   0.460    0.015    0.109    0.347    0.054    0.015 "
      ]
     },
     "metadata": {},
     "output_type": "display_data"
    }
   ],
   "source": [
    "prop.table(site.freq)\n",
    "round(prop.table(site.freq),3)"
   ]
  },
  {
   "cell_type": "markdown",
   "metadata": {},
   "source": [
    "<span style=\"color:red\">24. Display the `summary` of the social network dataset.</span>"
   ]
  },
  {
   "cell_type": "code",
   "execution_count": 47,
   "metadata": {},
   "outputs": [
    {
     "data": {
      "text/plain": [
       "       ID            Gender         Age              Site        Times       \n",
       " Min.   :  1.00         :  1   Min.   : 6.00   Facebook:93   Min.   :  0.00  \n",
       " 1st Qu.: 51.25   female: 98   1st Qu.:21.00   LinkedIn: 3   1st Qu.:  1.00  \n",
       " Median :101.50   male  :103   Median :28.00   MySpace :22   Median :  4.00  \n",
       " Mean   :101.50                Mean   :31.66   None    :70   Mean   : 14.58  \n",
       " 3rd Qu.:151.75                3rd Qu.:40.75   Other   :11   3rd Qu.: 10.00  \n",
       " Max.   :202.00                Max.   :70.00   Twitter : 3   Max.   :704.00  \n",
       "                               NA's   :12                    NA's   :31      "
      ]
     },
     "metadata": {},
     "output_type": "display_data"
    }
   ],
   "source": [
    "summary(sn.csv)"
   ]
  },
  {
   "cell_type": "markdown",
   "metadata": {},
   "source": [
    "<span style=\"color:red\">25. Show the five number summary (minimum, first quartile, median, third quartile, and maximum) for the age column.</span>"
   ]
  },
  {
   "cell_type": "code",
   "execution_count": 48,
   "metadata": {},
   "outputs": [
    {
     "data": {
      "text/html": [
       "<ol class=list-inline>\n",
       "\t<li>6</li>\n",
       "\t<li>21</li>\n",
       "\t<li>28</li>\n",
       "\t<li>41</li>\n",
       "\t<li>70</li>\n",
       "</ol>\n"
      ],
      "text/latex": [
       "\\begin{enumerate*}\n",
       "\\item 6\n",
       "\\item 21\n",
       "\\item 28\n",
       "\\item 41\n",
       "\\item 70\n",
       "\\end{enumerate*}\n"
      ],
      "text/markdown": [
       "1. 6\n",
       "2. 21\n",
       "3. 28\n",
       "4. 41\n",
       "5. 70\n",
       "\n",
       "\n"
      ],
      "text/plain": [
       "[1]  6 21 28 41 70"
      ]
     },
     "metadata": {},
     "output_type": "display_data"
    }
   ],
   "source": [
    "fivenum(sn.csv$Age)"
   ]
  },
  {
   "cell_type": "markdown",
   "metadata": {},
   "source": [
    "<span style=\"color:red\">26. Using the package *psych*, describe the social network dataset.</span>"
   ]
  },
  {
   "cell_type": "code",
   "execution_count": 53,
   "metadata": {},
   "outputs": [
    {
     "name": "stderr",
     "output_type": "stream",
     "text": [
      "Warning message:\n",
      "\"package 'psych' is in use and will not be installed\""
     ]
    },
    {
     "data": {
      "text/html": [
       "<table>\n",
       "<thead><tr><th></th><th scope=col>vars</th><th scope=col>n</th><th scope=col>mean</th><th scope=col>sd</th><th scope=col>median</th><th scope=col>trimmed</th><th scope=col>mad</th><th scope=col>min</th><th scope=col>max</th><th scope=col>range</th><th scope=col>skew</th><th scope=col>kurtosis</th><th scope=col>se</th></tr></thead>\n",
       "<tbody>\n",
       "\t<tr><th scope=row>ID</th><td>1          </td><td>202        </td><td>101.500000 </td><td>58.4565366 </td><td>101.5      </td><td>101.500000 </td><td>74.8713    </td><td>1          </td><td>202        </td><td>201        </td><td> 0.0000000 </td><td> -1.2178359</td><td>4.11298756 </td></tr>\n",
       "\t<tr><th scope=row>Gender*</th><td>2          </td><td>202        </td><td>  2.504950 </td><td> 0.5110474 </td><td>  3.0      </td><td>  2.512346 </td><td> 0.0000    </td><td>1          </td><td>  3        </td><td>  2        </td><td>-0.1309174 </td><td> -1.7163030</td><td>0.03595717 </td></tr>\n",
       "\t<tr><th scope=row>Age</th><td>3          </td><td>190        </td><td> 31.657895 </td><td>12.7820069 </td><td> 28.0      </td><td> 30.493421 </td><td>13.3434    </td><td>6          </td><td> 70        </td><td> 64        </td><td> 0.6737370 </td><td> -0.4073452</td><td>0.92730424 </td></tr>\n",
       "\t<tr><th scope=row>Site*</th><td>4          </td><td>202        </td><td>  2.564356 </td><td> 1.5415689 </td><td>  3.0      </td><td>  2.475309 </td><td> 2.9652    </td><td>1          </td><td>  6        </td><td>  5        </td><td> 0.1796911 </td><td> -1.5444032</td><td>0.10846441 </td></tr>\n",
       "\t<tr><th scope=row>Times</th><td>5          </td><td>171        </td><td> 14.584795 </td><td>57.2219374 </td><td>  4.0      </td><td>  6.226277 </td><td> 5.9304    </td><td>0          </td><td>704        </td><td>704        </td><td>10.4831587 </td><td>120.9552224</td><td>4.37587092 </td></tr>\n",
       "</tbody>\n",
       "</table>\n"
      ],
      "text/latex": [
       "\\begin{tabular}{r|lllllllllllll}\n",
       "  & vars & n & mean & sd & median & trimmed & mad & min & max & range & skew & kurtosis & se\\\\\n",
       "\\hline\n",
       "\tID & 1           & 202         & 101.500000  & 58.4565366  & 101.5       & 101.500000  & 74.8713     & 1           & 202         & 201         &  0.0000000  &  -1.2178359 & 4.11298756 \\\\\n",
       "\tGender* & 2           & 202         &   2.504950  &  0.5110474  &   3.0       &   2.512346  &  0.0000     & 1           &   3         &   2         & -0.1309174  &  -1.7163030 & 0.03595717 \\\\\n",
       "\tAge & 3           & 190         &  31.657895  & 12.7820069  &  28.0       &  30.493421  & 13.3434     & 6           &  70         &  64         &  0.6737370  &  -0.4073452 & 0.92730424 \\\\\n",
       "\tSite* & 4           & 202         &   2.564356  &  1.5415689  &   3.0       &   2.475309  &  2.9652     & 1           &   6         &   5         &  0.1796911  &  -1.5444032 & 0.10846441 \\\\\n",
       "\tTimes & 5           & 171         &  14.584795  & 57.2219374  &   4.0       &   6.226277  &  5.9304     & 0           & 704         & 704         & 10.4831587  & 120.9552224 & 4.37587092 \\\\\n",
       "\\end{tabular}\n"
      ],
      "text/markdown": [
       "\n",
       "| <!--/--> | vars | n | mean | sd | median | trimmed | mad | min | max | range | skew | kurtosis | se | \n",
       "|---|---|---|---|---|\n",
       "| ID | 1           | 202         | 101.500000  | 58.4565366  | 101.5       | 101.500000  | 74.8713     | 1           | 202         | 201         |  0.0000000  |  -1.2178359 | 4.11298756  | \n",
       "| Gender* | 2           | 202         |   2.504950  |  0.5110474  |   3.0       |   2.512346  |  0.0000     | 1           |   3         |   2         | -0.1309174  |  -1.7163030 | 0.03595717  | \n",
       "| Age | 3           | 190         |  31.657895  | 12.7820069  |  28.0       |  30.493421  | 13.3434     | 6           |  70         |  64         |  0.6737370  |  -0.4073452 | 0.92730424  | \n",
       "| Site* | 4           | 202         |   2.564356  |  1.5415689  |   3.0       |   2.475309  |  2.9652     | 1           |   6         |   5         |  0.1796911  |  -1.5444032 | 0.10846441  | \n",
       "| Times | 5           | 171         |  14.584795  | 57.2219374  |   4.0       |   6.226277  |  5.9304     | 0           | 704         | 704         | 10.4831587  | 120.9552224 | 4.37587092  | \n",
       "\n",
       "\n"
      ],
      "text/plain": [
       "        vars n   mean       sd         median trimmed    mad     min max range\n",
       "ID      1    202 101.500000 58.4565366 101.5  101.500000 74.8713 1   202 201  \n",
       "Gender* 2    202   2.504950  0.5110474   3.0    2.512346  0.0000 1     3   2  \n",
       "Age     3    190  31.657895 12.7820069  28.0   30.493421 13.3434 6    70  64  \n",
       "Site*   4    202   2.564356  1.5415689   3.0    2.475309  2.9652 1     6   5  \n",
       "Times   5    171  14.584795 57.2219374   4.0    6.226277  5.9304 0   704 704  \n",
       "        skew       kurtosis    se        \n",
       "ID       0.0000000  -1.2178359 4.11298756\n",
       "Gender* -0.1309174  -1.7163030 0.03595717\n",
       "Age      0.6737370  -0.4073452 0.92730424\n",
       "Site*    0.1796911  -1.5444032 0.10846441\n",
       "Times   10.4831587 120.9552224 4.37587092"
      ]
     },
     "metadata": {},
     "output_type": "display_data"
    }
   ],
   "source": [
    "install.packages(\"psych\",repos='http://cran.us.r-project.org')\n",
    "library(\"psych\")\n",
    "describe(sn.csv)"
   ]
  },
  {
   "cell_type": "markdown",
   "metadata": {},
   "source": [
    "# Chapter 4: Modifying Data"
   ]
  },
  {
   "cell_type": "markdown",
   "metadata": {},
   "source": [
    "<span style=\"color:red\">27. Create a histogram of the number of times a person logged into their given site from the social network dataset.</span>"
   ]
  },
  {
   "cell_type": "code",
   "execution_count": 54,
   "metadata": {},
   "outputs": [
    {
     "data": {
      "image/png": "[encoded data removed]",
      "text/plain": [
       "Plot with title \"Histogram of sn.csv$Times\""
      ]
     },
     "metadata": {},
     "output_type": "display_data"
    }
   ],
   "source": [
    "hist(sn.csv$Times)"
   ]
  },
  {
   "cell_type": "markdown",
   "metadata": {},
   "source": [
    "<span style=\"color:red\">28. Calculate the z scores (standardized scores) for times variable withing the social network dataset and produce a histogram of the z scores.</span>"
   ]
  },
  {
   "cell_type": "code",
   "execution_count": 55,
   "metadata": {},
   "outputs": [
    {
     "data": {
      "image/png": "[encoded data removed]",
      "text/plain": [
       "Plot with title \"Histogram of times.z\""
      ]
     },
     "metadata": {},
     "output_type": "display_data"
    }
   ],
   "source": [
    "times.z <- scale(sn.csv$Times)\n",
    "hist(times.z)\n"
   ]
  },
  {
   "cell_type": "markdown",
   "metadata": {},
   "source": [
    "<span style=\"color:red\">29. Given the histogram is skewed to one end, try to produce some other variation of the histogram by transforming the data, try converting the data to a log scale and redoing the histogram.</span>"
   ]
  },
  {
   "cell_type": "code",
   "execution_count": 63,
   "metadata": {},
   "outputs": [
    {
     "data": {
      "image/png": "[encoded data removed]",
      "text/plain": [
       "Plot with title \"Histogram of times.log\""
      ]
     },
     "metadata": {},
     "output_type": "display_data"
    }
   ],
   "source": [
    "times.log <- log(sn.csv$Times)\n",
    "hist(times.log)"
   ]
  },
  {
   "cell_type": "markdown",
   "metadata": {},
   "source": [
    "<span style=\"color:red\">30. Given you can not calculate the log of 0, modify the code you used in the previous question to add 1 to each the number times a person visited a site each day and replot the histogram.</span>"
   ]
  },
  {
   "cell_type": "code",
   "execution_count": 64,
   "metadata": {},
   "outputs": [
    {
     "data": {
      "image/png": "[encoded data removed]",
      "text/plain": [
       "Plot with title \"Histogram of times.log1\""
      ]
     },
     "metadata": {},
     "output_type": "display_data"
    }
   ],
   "source": [
    "times.log1 <- log(sn.csv$Times)\n",
    "hist(times.log1)"
   ]
  },
  {
   "cell_type": "markdown",
   "metadata": {},
   "source": [
    "<span style=\"color:red\">31. Divide or separate times variable into two categories, either the respondent logged in once or more or they did not.  Print the output, you will actually end up with three states since some respondents did not answer, they will be represented by NA in the output.</span>"
   ]
  },
  {
   "cell_type": "code",
   "execution_count": 65,
   "metadata": {},
   "outputs": [
    {
     "data": {
      "text/html": [
       "<ol class=list-inline>\n",
       "\t<li>0</li>\n",
       "\t<li>1</li>\n",
       "\t<li>1</li>\n",
       "\t<li>1</li>\n",
       "\t<li>&lt;NA&gt;</li>\n",
       "\t<li>1</li>\n",
       "\t<li>&lt;NA&gt;</li>\n",
       "\t<li>0</li>\n",
       "\t<li>&lt;NA&gt;</li>\n",
       "\t<li>1</li>\n",
       "\t<li>1</li>\n",
       "\t<li>1</li>\n",
       "\t<li>0</li>\n",
       "\t<li>1</li>\n",
       "\t<li>0</li>\n",
       "\t<li>1</li>\n",
       "\t<li>1</li>\n",
       "\t<li>&lt;NA&gt;</li>\n",
       "\t<li>1</li>\n",
       "\t<li>&lt;NA&gt;</li>\n",
       "\t<li>0</li>\n",
       "\t<li>1</li>\n",
       "\t<li>1</li>\n",
       "\t<li>&lt;NA&gt;</li>\n",
       "\t<li>1</li>\n",
       "\t<li>0</li>\n",
       "\t<li>1</li>\n",
       "\t<li>&lt;NA&gt;</li>\n",
       "\t<li>1</li>\n",
       "\t<li>1</li>\n",
       "\t<li>1</li>\n",
       "\t<li>0</li>\n",
       "\t<li>1</li>\n",
       "\t<li>1</li>\n",
       "\t<li>0</li>\n",
       "\t<li>&lt;NA&gt;</li>\n",
       "\t<li>1</li>\n",
       "\t<li>0</li>\n",
       "\t<li>0</li>\n",
       "\t<li>&lt;NA&gt;</li>\n",
       "\t<li>1</li>\n",
       "\t<li>1</li>\n",
       "\t<li>&lt;NA&gt;</li>\n",
       "\t<li>1</li>\n",
       "\t<li>1</li>\n",
       "\t<li>1</li>\n",
       "\t<li>1</li>\n",
       "\t<li>0</li>\n",
       "\t<li>1</li>\n",
       "\t<li>1</li>\n",
       "\t<li>0</li>\n",
       "\t<li>1</li>\n",
       "\t<li>1</li>\n",
       "\t<li>1</li>\n",
       "\t<li>&lt;NA&gt;</li>\n",
       "\t<li>1</li>\n",
       "\t<li>&lt;NA&gt;</li>\n",
       "\t<li>0</li>\n",
       "\t<li>1</li>\n",
       "\t<li>0</li>\n",
       "\t<li>1</li>\n",
       "\t<li>1</li>\n",
       "\t<li>1</li>\n",
       "\t<li>1</li>\n",
       "\t<li>0</li>\n",
       "\t<li>1</li>\n",
       "\t<li>1</li>\n",
       "\t<li>1</li>\n",
       "\t<li>1</li>\n",
       "\t<li>1</li>\n",
       "\t<li>0</li>\n",
       "\t<li>&lt;NA&gt;</li>\n",
       "\t<li>0</li>\n",
       "\t<li>&lt;NA&gt;</li>\n",
       "\t<li>1</li>\n",
       "\t<li>1</li>\n",
       "\t<li>1</li>\n",
       "\t<li>1</li>\n",
       "\t<li>1</li>\n",
       "\t<li>1</li>\n",
       "\t<li>&lt;NA&gt;</li>\n",
       "\t<li>1</li>\n",
       "\t<li>&lt;NA&gt;</li>\n",
       "\t<li>0</li>\n",
       "\t<li>1</li>\n",
       "\t<li>0</li>\n",
       "\t<li>1</li>\n",
       "\t<li>1</li>\n",
       "\t<li>&lt;NA&gt;</li>\n",
       "\t<li>&lt;NA&gt;</li>\n",
       "\t<li>0</li>\n",
       "\t<li>0</li>\n",
       "\t<li>1</li>\n",
       "\t<li>0</li>\n",
       "\t<li>0</li>\n",
       "\t<li>1</li>\n",
       "\t<li>1</li>\n",
       "\t<li>0</li>\n",
       "\t<li>&lt;NA&gt;</li>\n",
       "\t<li>0</li>\n",
       "\t<li>1</li>\n",
       "\t<li>1</li>\n",
       "\t<li>0</li>\n",
       "\t<li>1</li>\n",
       "\t<li>0</li>\n",
       "\t<li>1</li>\n",
       "\t<li>0</li>\n",
       "\t<li>1</li>\n",
       "\t<li>1</li>\n",
       "\t<li>0</li>\n",
       "\t<li>0</li>\n",
       "\t<li>&lt;NA&gt;</li>\n",
       "\t<li>0</li>\n",
       "\t<li>1</li>\n",
       "\t<li>0</li>\n",
       "\t<li>1</li>\n",
       "\t<li>1</li>\n",
       "\t<li>0</li>\n",
       "\t<li>1</li>\n",
       "\t<li>0</li>\n",
       "\t<li>0</li>\n",
       "\t<li>1</li>\n",
       "\t<li>&lt;NA&gt;</li>\n",
       "\t<li>0</li>\n",
       "\t<li>1</li>\n",
       "\t<li>0</li>\n",
       "\t<li>1</li>\n",
       "\t<li>1</li>\n",
       "\t<li>1</li>\n",
       "\t<li>1</li>\n",
       "\t<li>1</li>\n",
       "\t<li>1</li>\n",
       "\t<li>&lt;NA&gt;</li>\n",
       "\t<li>&lt;NA&gt;</li>\n",
       "\t<li>1</li>\n",
       "\t<li>1</li>\n",
       "\t<li>1</li>\n",
       "\t<li>1</li>\n",
       "\t<li>1</li>\n",
       "\t<li>1</li>\n",
       "\t<li>&lt;NA&gt;</li>\n",
       "\t<li>1</li>\n",
       "\t<li>0</li>\n",
       "\t<li>1</li>\n",
       "\t<li>1</li>\n",
       "\t<li>1</li>\n",
       "\t<li>0</li>\n",
       "\t<li>1</li>\n",
       "\t<li>1</li>\n",
       "\t<li>1</li>\n",
       "\t<li>1</li>\n",
       "\t<li>1</li>\n",
       "\t<li>1</li>\n",
       "\t<li>1</li>\n",
       "\t<li>1</li>\n",
       "\t<li>0</li>\n",
       "\t<li>0</li>\n",
       "\t<li>1</li>\n",
       "\t<li>0</li>\n",
       "\t<li>1</li>\n",
       "\t<li>&lt;NA&gt;</li>\n",
       "\t<li>0</li>\n",
       "\t<li>&lt;NA&gt;</li>\n",
       "\t<li>1</li>\n",
       "\t<li>1</li>\n",
       "\t<li>1</li>\n",
       "\t<li>0</li>\n",
       "\t<li>1</li>\n",
       "\t<li>1</li>\n",
       "\t<li>1</li>\n",
       "\t<li>0</li>\n",
       "\t<li>&lt;NA&gt;</li>\n",
       "\t<li>0</li>\n",
       "\t<li>1</li>\n",
       "\t<li>0</li>\n",
       "\t<li>0</li>\n",
       "\t<li>1</li>\n",
       "\t<li>0</li>\n",
       "\t<li>0</li>\n",
       "\t<li>1</li>\n",
       "\t<li>&lt;NA&gt;</li>\n",
       "\t<li>1</li>\n",
       "\t<li>1</li>\n",
       "\t<li>1</li>\n",
       "\t<li>0</li>\n",
       "\t<li>0</li>\n",
       "\t<li>0</li>\n",
       "\t<li>1</li>\n",
       "\t<li>1</li>\n",
       "\t<li>1</li>\n",
       "\t<li>1</li>\n",
       "\t<li>&lt;NA&gt;</li>\n",
       "\t<li>1</li>\n",
       "\t<li>&lt;NA&gt;</li>\n",
       "\t<li>1</li>\n",
       "\t<li>1</li>\n",
       "\t<li>1</li>\n",
       "\t<li>1</li>\n",
       "\t<li>&lt;NA&gt;</li>\n",
       "\t<li>1</li>\n",
       "\t<li>1</li>\n",
       "\t<li>1</li>\n",
       "</ol>\n"
      ],
      "text/latex": [
       "\\begin{enumerate*}\n",
       "\\item 0\n",
       "\\item 1\n",
       "\\item 1\n",
       "\\item 1\n",
       "\\item <NA>\n",
       "\\item 1\n",
       "\\item <NA>\n",
       "\\item 0\n",
       "\\item <NA>\n",
       "\\item 1\n",
       "\\item 1\n",
       "\\item 1\n",
       "\\item 0\n",
       "\\item 1\n",
       "\\item 0\n",
       "\\item 1\n",
       "\\item 1\n",
       "\\item <NA>\n",
       "\\item 1\n",
       "\\item <NA>\n",
       "\\item 0\n",
       "\\item 1\n",
       "\\item 1\n",
       "\\item <NA>\n",
       "\\item 1\n",
       "\\item 0\n",
       "\\item 1\n",
       "\\item <NA>\n",
       "\\item 1\n",
       "\\item 1\n",
       "\\item 1\n",
       "\\item 0\n",
       "\\item 1\n",
       "\\item 1\n",
       "\\item 0\n",
       "\\item <NA>\n",
       "\\item 1\n",
       "\\item 0\n",
       "\\item 0\n",
       "\\item <NA>\n",
       "\\item 1\n",
       "\\item 1\n",
       "\\item <NA>\n",
       "\\item 1\n",
       "\\item 1\n",
       "\\item 1\n",
       "\\item 1\n",
       "\\item 0\n",
       "\\item 1\n",
       "\\item 1\n",
       "\\item 0\n",
       "\\item 1\n",
       "\\item 1\n",
       "\\item 1\n",
       "\\item <NA>\n",
       "\\item 1\n",
       "\\item <NA>\n",
       "\\item 0\n",
       "\\item 1\n",
       "\\item 0\n",
       "\\item 1\n",
       "\\item 1\n",
       "\\item 1\n",
       "\\item 1\n",
       "\\item 0\n",
       "\\item 1\n",
       "\\item 1\n",
       "\\item 1\n",
       "\\item 1\n",
       "\\item 1\n",
       "\\item 0\n",
       "\\item <NA>\n",
       "\\item 0\n",
       "\\item <NA>\n",
       "\\item 1\n",
       "\\item 1\n",
       "\\item 1\n",
       "\\item 1\n",
       "\\item 1\n",
       "\\item 1\n",
       "\\item <NA>\n",
       "\\item 1\n",
       "\\item <NA>\n",
       "\\item 0\n",
       "\\item 1\n",
       "\\item 0\n",
       "\\item 1\n",
       "\\item 1\n",
       "\\item <NA>\n",
       "\\item <NA>\n",
       "\\item 0\n",
       "\\item 0\n",
       "\\item 1\n",
       "\\item 0\n",
       "\\item 0\n",
       "\\item 1\n",
       "\\item 1\n",
       "\\item 0\n",
       "\\item <NA>\n",
       "\\item 0\n",
       "\\item 1\n",
       "\\item 1\n",
       "\\item 0\n",
       "\\item 1\n",
       "\\item 0\n",
       "\\item 1\n",
       "\\item 0\n",
       "\\item 1\n",
       "\\item 1\n",
       "\\item 0\n",
       "\\item 0\n",
       "\\item <NA>\n",
       "\\item 0\n",
       "\\item 1\n",
       "\\item 0\n",
       "\\item 1\n",
       "\\item 1\n",
       "\\item 0\n",
       "\\item 1\n",
       "\\item 0\n",
       "\\item 0\n",
       "\\item 1\n",
       "\\item <NA>\n",
       "\\item 0\n",
       "\\item 1\n",
       "\\item 0\n",
       "\\item 1\n",
       "\\item 1\n",
       "\\item 1\n",
       "\\item 1\n",
       "\\item 1\n",
       "\\item 1\n",
       "\\item <NA>\n",
       "\\item <NA>\n",
       "\\item 1\n",
       "\\item 1\n",
       "\\item 1\n",
       "\\item 1\n",
       "\\item 1\n",
       "\\item 1\n",
       "\\item <NA>\n",
       "\\item 1\n",
       "\\item 0\n",
       "\\item 1\n",
       "\\item 1\n",
       "\\item 1\n",
       "\\item 0\n",
       "\\item 1\n",
       "\\item 1\n",
       "\\item 1\n",
       "\\item 1\n",
       "\\item 1\n",
       "\\item 1\n",
       "\\item 1\n",
       "\\item 1\n",
       "\\item 0\n",
       "\\item 0\n",
       "\\item 1\n",
       "\\item 0\n",
       "\\item 1\n",
       "\\item <NA>\n",
       "\\item 0\n",
       "\\item <NA>\n",
       "\\item 1\n",
       "\\item 1\n",
       "\\item 1\n",
       "\\item 0\n",
       "\\item 1\n",
       "\\item 1\n",
       "\\item 1\n",
       "\\item 0\n",
       "\\item <NA>\n",
       "\\item 0\n",
       "\\item 1\n",
       "\\item 0\n",
       "\\item 0\n",
       "\\item 1\n",
       "\\item 0\n",
       "\\item 0\n",
       "\\item 1\n",
       "\\item <NA>\n",
       "\\item 1\n",
       "\\item 1\n",
       "\\item 1\n",
       "\\item 0\n",
       "\\item 0\n",
       "\\item 0\n",
       "\\item 1\n",
       "\\item 1\n",
       "\\item 1\n",
       "\\item 1\n",
       "\\item <NA>\n",
       "\\item 1\n",
       "\\item <NA>\n",
       "\\item 1\n",
       "\\item 1\n",
       "\\item 1\n",
       "\\item 1\n",
       "\\item <NA>\n",
       "\\item 1\n",
       "\\item 1\n",
       "\\item 1\n",
       "\\end{enumerate*}\n"
      ],
      "text/markdown": [
       "1. 0\n",
       "2. 1\n",
       "3. 1\n",
       "4. 1\n",
       "5. &lt;NA&gt;\n",
       "6. 1\n",
       "7. &lt;NA&gt;\n",
       "8. 0\n",
       "9. &lt;NA&gt;\n",
       "10. 1\n",
       "11. 1\n",
       "12. 1\n",
       "13. 0\n",
       "14. 1\n",
       "15. 0\n",
       "16. 1\n",
       "17. 1\n",
       "18. &lt;NA&gt;\n",
       "19. 1\n",
       "20. &lt;NA&gt;\n",
       "21. 0\n",
       "22. 1\n",
       "23. 1\n",
       "24. &lt;NA&gt;\n",
       "25. 1\n",
       "26. 0\n",
       "27. 1\n",
       "28. &lt;NA&gt;\n",
       "29. 1\n",
       "30. 1\n",
       "31. 1\n",
       "32. 0\n",
       "33. 1\n",
       "34. 1\n",
       "35. 0\n",
       "36. &lt;NA&gt;\n",
       "37. 1\n",
       "38. 0\n",
       "39. 0\n",
       "40. &lt;NA&gt;\n",
       "41. 1\n",
       "42. 1\n",
       "43. &lt;NA&gt;\n",
       "44. 1\n",
       "45. 1\n",
       "46. 1\n",
       "47. 1\n",
       "48. 0\n",
       "49. 1\n",
       "50. 1\n",
       "51. 0\n",
       "52. 1\n",
       "53. 1\n",
       "54. 1\n",
       "55. &lt;NA&gt;\n",
       "56. 1\n",
       "57. &lt;NA&gt;\n",
       "58. 0\n",
       "59. 1\n",
       "60. 0\n",
       "61. 1\n",
       "62. 1\n",
       "63. 1\n",
       "64. 1\n",
       "65. 0\n",
       "66. 1\n",
       "67. 1\n",
       "68. 1\n",
       "69. 1\n",
       "70. 1\n",
       "71. 0\n",
       "72. &lt;NA&gt;\n",
       "73. 0\n",
       "74. &lt;NA&gt;\n",
       "75. 1\n",
       "76. 1\n",
       "77. 1\n",
       "78. 1\n",
       "79. 1\n",
       "80. 1\n",
       "81. &lt;NA&gt;\n",
       "82. 1\n",
       "83. &lt;NA&gt;\n",
       "84. 0\n",
       "85. 1\n",
       "86. 0\n",
       "87. 1\n",
       "88. 1\n",
       "89. &lt;NA&gt;\n",
       "90. &lt;NA&gt;\n",
       "91. 0\n",
       "92. 0\n",
       "93. 1\n",
       "94. 0\n",
       "95. 0\n",
       "96. 1\n",
       "97. 1\n",
       "98. 0\n",
       "99. &lt;NA&gt;\n",
       "100. 0\n",
       "101. 1\n",
       "102. 1\n",
       "103. 0\n",
       "104. 1\n",
       "105. 0\n",
       "106. 1\n",
       "107. 0\n",
       "108. 1\n",
       "109. 1\n",
       "110. 0\n",
       "111. 0\n",
       "112. &lt;NA&gt;\n",
       "113. 0\n",
       "114. 1\n",
       "115. 0\n",
       "116. 1\n",
       "117. 1\n",
       "118. 0\n",
       "119. 1\n",
       "120. 0\n",
       "121. 0\n",
       "122. 1\n",
       "123. &lt;NA&gt;\n",
       "124. 0\n",
       "125. 1\n",
       "126. 0\n",
       "127. 1\n",
       "128. 1\n",
       "129. 1\n",
       "130. 1\n",
       "131. 1\n",
       "132. 1\n",
       "133. &lt;NA&gt;\n",
       "134. &lt;NA&gt;\n",
       "135. 1\n",
       "136. 1\n",
       "137. 1\n",
       "138. 1\n",
       "139. 1\n",
       "140. 1\n",
       "141. &lt;NA&gt;\n",
       "142. 1\n",
       "143. 0\n",
       "144. 1\n",
       "145. 1\n",
       "146. 1\n",
       "147. 0\n",
       "148. 1\n",
       "149. 1\n",
       "150. 1\n",
       "151. 1\n",
       "152. 1\n",
       "153. 1\n",
       "154. 1\n",
       "155. 1\n",
       "156. 0\n",
       "157. 0\n",
       "158. 1\n",
       "159. 0\n",
       "160. 1\n",
       "161. &lt;NA&gt;\n",
       "162. 0\n",
       "163. &lt;NA&gt;\n",
       "164. 1\n",
       "165. 1\n",
       "166. 1\n",
       "167. 0\n",
       "168. 1\n",
       "169. 1\n",
       "170. 1\n",
       "171. 0\n",
       "172. &lt;NA&gt;\n",
       "173. 0\n",
       "174. 1\n",
       "175. 0\n",
       "176. 0\n",
       "177. 1\n",
       "178. 0\n",
       "179. 0\n",
       "180. 1\n",
       "181. &lt;NA&gt;\n",
       "182. 1\n",
       "183. 1\n",
       "184. 1\n",
       "185. 0\n",
       "186. 0\n",
       "187. 0\n",
       "188. 1\n",
       "189. 1\n",
       "190. 1\n",
       "191. 1\n",
       "192. &lt;NA&gt;\n",
       "193. 1\n",
       "194. &lt;NA&gt;\n",
       "195. 1\n",
       "196. 1\n",
       "197. 1\n",
       "198. 1\n",
       "199. &lt;NA&gt;\n",
       "200. 1\n",
       "201. 1\n",
       "202. 1\n",
       "\n",
       "\n"
      ],
      "text/plain": [
       "  [1]  0  1  1  1 NA  1 NA  0 NA  1  1  1  0  1  0  1  1 NA  1 NA  0  1  1 NA  1\n",
       " [26]  0  1 NA  1  1  1  0  1  1  0 NA  1  0  0 NA  1  1 NA  1  1  1  1  0  1  1\n",
       " [51]  0  1  1  1 NA  1 NA  0  1  0  1  1  1  1  0  1  1  1  1  1  0 NA  0 NA  1\n",
       " [76]  1  1  1  1  1 NA  1 NA  0  1  0  1  1 NA NA  0  0  1  0  0  1  1  0 NA  0\n",
       "[101]  1  1  0  1  0  1  0  1  1  0  0 NA  0  1  0  1  1  0  1  0  0  1 NA  0  1\n",
       "[126]  0  1  1  1  1  1  1 NA NA  1  1  1  1  1  1 NA  1  0  1  1  1  0  1  1  1\n",
       "[151]  1  1  1  1  1  0  0  1  0  1 NA  0 NA  1  1  1  0  1  1  1  0 NA  0  1  0\n",
       "[176]  0  1  0  0  1 NA  1  1  1  0  0  0  1  1  1  1 NA  1 NA  1  1  1  1 NA  1\n",
       "[201]  1  1"
      ]
     },
     "metadata": {},
     "output_type": "display_data"
    }
   ],
   "source": [
    "time.sep <- ifelse(sn.csv$Times>1,1,0)\n",
    "time.sep"
   ]
  },
  {
   "cell_type": "markdown",
   "metadata": {},
   "source": [
    "# Chapter 5: Charts for Associations"
   ]
  },
  {
   "cell_type": "markdown",
   "metadata": {},
   "source": [
    "<span style=\"color:red\">32. Read in the data from the *google correlate dataset* (Data/google_correlate.csv) into a variable `google` and look at the variables it contains, do this using both `names` and `str`.</span>"
   ]
  },
  {
   "cell_type": "code",
   "execution_count": 66,
   "metadata": {},
   "outputs": [
    {
     "data": {
      "text/html": [
       "<ol class=list-inline>\n",
       "\t<li>'State'</li>\n",
       "\t<li>'state_code'</li>\n",
       "\t<li>'data_viz'</li>\n",
       "\t<li>'facebook'</li>\n",
       "\t<li>'nba'</li>\n",
       "\t<li>'has_nba'</li>\n",
       "\t<li>'degree'</li>\n",
       "\t<li>'stats_ed'</li>\n",
       "\t<li>'region'</li>\n",
       "</ol>\n"
      ],
      "text/latex": [
       "\\begin{enumerate*}\n",
       "\\item 'State'\n",
       "\\item 'state\\_code'\n",
       "\\item 'data\\_viz'\n",
       "\\item 'facebook'\n",
       "\\item 'nba'\n",
       "\\item 'has\\_nba'\n",
       "\\item 'degree'\n",
       "\\item 'stats\\_ed'\n",
       "\\item 'region'\n",
       "\\end{enumerate*}\n"
      ],
      "text/markdown": [
       "1. 'State'\n",
       "2. 'state_code'\n",
       "3. 'data_viz'\n",
       "4. 'facebook'\n",
       "5. 'nba'\n",
       "6. 'has_nba'\n",
       "7. 'degree'\n",
       "8. 'stats_ed'\n",
       "9. 'region'\n",
       "\n",
       "\n"
      ],
      "text/plain": [
       "[1] \"State\"      \"state_code\" \"data_viz\"   \"facebook\"   \"nba\"       \n",
       "[6] \"has_nba\"    \"degree\"     \"stats_ed\"   \"region\"    "
      ]
     },
     "metadata": {},
     "output_type": "display_data"
    },
    {
     "name": "stdout",
     "output_type": "stream",
     "text": [
      "'data.frame':\t51 obs. of  9 variables:\n",
      " $ State     : Factor w/ 51 levels \"Alabama\",\"Alaska\",..: 1 2 3 4 5 6 7 8 9 10 ...\n",
      " $ state_code: Factor w/ 51 levels \"AK\",\"AL\",\"AR\",..: 2 1 4 3 5 6 7 9 8 10 ...\n",
      " $ data_viz  : num  -0.69 -0.9 -0.2 -0.59 1.24 0.79 0.32 0.17 3.56 -0.8 ...\n",
      " $ facebook  : num  1.93 -0.52 -1.18 2.21 -1.28 -1.33 -0.14 -0.34 -2.2 0.1 ...\n",
      " $ nba       : num  -0.9 -1.08 1.23 -1.1 1.65 -0.68 0.1 0.03 -0.06 0.29 ...\n",
      " $ has_nba   : Factor w/ 2 levels \"no\",\"yes\": 1 1 2 1 2 2 1 1 2 2 ...\n",
      " $ degree    : num  22.3 25.5 28 18.8 31.7 35.5 34.5 26.9 45.7 26 ...\n",
      " $ stats_ed  : Factor w/ 2 levels \"no\",\"yes\": 1 1 1 2 2 1 1 1 2 2 ...\n",
      " $ region    : Factor w/ 4 levels \"Midwest\",\"Northeast\",..: 3 4 4 3 4 4 2 3 3 3 ...\n"
     ]
    }
   ],
   "source": [
    "google <- read.csv(\"Data/google_correlate.csv\")\n",
    "names(google)\n",
    "str(google)"
   ]
  },
  {
   "cell_type": "markdown",
   "metadata": {},
   "source": [
    "<span style=\"color:red\">33. Create a new variable that is the percentage of people who searched for *data visualization* by region of the country. Using the new variable produce a boxplot.</span>"
   ]
  },
  {
   "cell_type": "code",
   "execution_count": 74,
   "metadata": {
    "scrolled": true
   },
   "outputs": [
    {
     "data": {
      "image/png": "[encoded data removed]",
      "text/plain": [
       "plot without title"
      ]
     },
     "metadata": {},
     "output_type": "display_data"
    }
   ],
   "source": [
    "viz.reg <- split(google$data_viz,google$region)\n",
    "boxplot(viz.reg)"
   ]
  },
  {
   "cell_type": "markdown",
   "metadata": {},
   "source": [
    "<span style=\"color:red\">34. Create a new variable that is the mean of the percentage of people who searched for *data visualization* by region of the country from variable created in the previous cell. Using the new variable produce a barplot where the bars are colored beige and it has a title Average Google Search Share of \"Data Visualization\" by Region of US\" split across two lines. Add a zero line to the plot.</span>"
   ]
  },
  {
   "cell_type": "code",
   "execution_count": 82,
   "metadata": {},
   "outputs": [
    {
     "data": {
      "image/png": "[encoded data removed]",
      "text/plain": [
       "Plot with title \"Data Visualization by Region of US\""
      ]
     },
     "metadata": {},
     "output_type": "display_data"
    }
   ],
   "source": [
    "viz.reg <- split(google$data_viz,google$region)\n",
    "viz.reg.mean <- sapply(viz.reg,mean)\n",
    "boxplot(viz.reg.mean, col= \"beige\",main=\"Data Visualization by Region of US\")\n",
    "abline(h=0)"
   ]
  },
  {
   "cell_type": "markdown",
   "metadata": {},
   "source": [
    "<span style=\"color:red\">35.Produce a scatterplot using the *google correlate dataset*, plotting the relative interest in **data visualization**; that is how often did they search for that term with respect to their other searches, versus the percentage of people in that state with a college degree, add appropriate title and x and y axis labels.</span>"
   ]
  },
  {
   "cell_type": "code",
   "execution_count": 85,
   "metadata": {},
   "outputs": [
    {
     "data": {
      "image/png": "[encoded data removed]",
      "text/plain": [
       "plot without title"
      ]
     },
     "metadata": {},
     "output_type": "display_data"
    }
   ],
   "source": [
    "plot(google$degree,google$data_viz,xlab=\"Percent of people with college Degree\",ylab=\"Intrest in Data Visualization\")"
   ]
  },
  {
   "cell_type": "markdown",
   "metadata": {},
   "source": [
    "<span style=\"color:red\">36. Using the scatterplot you produced in the previous cell, add a red line that represents a regression line that uses a linear model and a blue line that uses a Lowess smoother.</span>"
   ]
  },
  {
   "cell_type": "code",
   "execution_count": 87,
   "metadata": {},
   "outputs": [
    {
     "data": {
      "image/png": "[encoded data removed]",
      "text/plain": [
       "plot without title"
      ]
     },
     "metadata": {},
     "output_type": "display_data"
    }
   ],
   "source": [
    "plot(google$degree,google$data_viz,xlab=\"Percent of people with college Degree\",ylab=\"Intrest in Data Visualization\")\n",
    "abline(lm(google$data_viz ~ google$degree),col=\"red\")"
   ]
  },
  {
   "cell_type": "markdown",
   "metadata": {},
   "source": [
    "<span style=\"color:red\">37. Create a simple scatterplot matrix using `pair` for the `data_viz`, `degree`, `facebook` and `nba` components of the google correlate dataset, title the graph *Simple Scattterplot Matrix*.</span>"
   ]
  },
  {
   "cell_type": "code",
   "execution_count": 88,
   "metadata": {},
   "outputs": [
    {
     "data": {
      "image/png": "[encoded data removed]",
      "text/plain": [
       "plot without title"
      ]
     },
     "metadata": {},
     "output_type": "display_data"
    }
   ],
   "source": [
    "pairs(~data_viz+degree+facebook+nba,data=google,main=\"Simple Scattterplot Matrix\")"
   ]
  },
  {
   "cell_type": "markdown",
   "metadata": {},
   "source": [
    "<span style=\"color:red\">38. Using the `pairs.panels` function from the *psych* package, produce the same scatter plot as the previous cell. In this graph, color the histogram beige, make the gap between boxes zero and add a title *Enhanced Scatterplot Matrix*.</span>"
   ]
  },
  {
   "cell_type": "code",
   "execution_count": 93,
   "metadata": {},
   "outputs": [
    {
     "data": {
      "image/png": "[encoded data removed]",
      "text/plain": [
       "plot without title"
      ]
     },
     "metadata": {},
     "output_type": "display_data"
    }
   ],
   "source": [
    "library(\"psych\")\n",
    "pairs.panels(google[c(3,7,4,5)],gap=0)"
   ]
  }
 ],
 "metadata": {
  "kernelspec": {
   "display_name": "R",
   "language": "R",
   "name": "ir"
  },
  "language_info": {
   "codemirror_mode": "r",
   "file_extension": ".r",
   "mimetype": "text/x-r-source",
   "name": "R",
   "pygments_lexer": "r",
   "version": "3.5.1"
  }
 },
 "nbformat": 4,
 "nbformat_minor": 2
}
